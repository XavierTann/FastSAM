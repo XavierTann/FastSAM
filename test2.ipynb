{
 "cells": [
  {
   "cell_type": "code",
   "execution_count": 1,
   "metadata": {},
   "outputs": [
    {
     "name": "stdout",
     "output_type": "stream",
     "text": [
      "-8948283.684028344 2966827.796239759 -8947849.538014252 2967556.944055891\n"
     ]
    }
   ],
   "source": [
    "import rasterio\n",
    "from rasterio.mask import mask\n",
    "\n",
    "geo_tiff_path = './images/FastSam_Sample_Image-2.tif'\n",
    "input_geotiff = geo_tiff_path\n",
    "output_geotiff = './output/preview.tif'\n",
    "\n",
    "with rasterio.open(input_geotiff) as src:\n",
    "    xmin, ymin, xmax, ymax = src.bounds\n",
    "    print(xmin, ymin, xmax, ymax)\n",
    "    # Get image dimensions\n",
    "    x_range = xmax - xmin\n",
    "    y_range = ymax-ymin\n",
    "\n",
    "    xmin = xmin+(x_range / 3)\n",
    "    ymin = ymin+(y_range/3)\n",
    "    xmax = xmax - (x_range/3)\n",
    "    ymax = ymax - (y_range/3)\n",
    "\n",
    "    my_geojson = [{\n",
    "        \"type\": \"Polygon\",\n",
    "        \"coordinates\": [\n",
    "            [\n",
    "                [xmin, ymin],\n",
    "                [xmax, ymin],\n",
    "                [xmax, ymax],\n",
    "                [xmin, ymax],\n",
    "                [xmin, ymin]\n",
    "            ],\n",
    "        ]\n",
    "    }]\n",
    "\n",
    "    clipped, transform = mask(src, my_geojson, crop=True)\n",
    "\n",
    "    imagepxwidth = src.width  # Image width in pixels\n",
    "    imagepxheight = src.height  # Image height in pixels\n",
    "\n",
    "    # Get the affine transformation (transform matrix) to relate pixel coordinates to geographic coordinates\n",
    "    transform = src.transform\n",
    "\n",
    "    profile = src.profile\n",
    "\n",
    "    profile.update({\n",
    "        'height': clipped.shape[1],\n",
    "        'width': clipped.shape[2],\n",
    "        'transform': transform,\n",
    "\n",
    "    })\n",
    "\n",
    "    # Write the cropped image to a new GeoTIFF\n",
    "    with rasterio.open(output_geotiff, 'w', **profile) as dst:\n",
    "        dst.write(clipped)"
   ]
  },
  {
   "cell_type": "code",
   "execution_count": null,
   "metadata": {},
   "outputs": [],
   "source": []
  }
 ],
 "metadata": {
  "kernelspec": {
   "display_name": "FastSAM",
   "language": "python",
   "name": "python3"
  },
  "language_info": {
   "codemirror_mode": {
    "name": "ipython",
    "version": 3
   },
   "file_extension": ".py",
   "mimetype": "text/x-python",
   "name": "python",
   "nbconvert_exporter": "python",
   "pygments_lexer": "ipython3",
   "version": "3.9.20"
  }
 },
 "nbformat": 4,
 "nbformat_minor": 2
}
